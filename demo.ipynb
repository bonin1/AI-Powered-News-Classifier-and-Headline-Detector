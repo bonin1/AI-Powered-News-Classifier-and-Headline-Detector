{
 "cells": [
  {
   "cell_type": "markdown",
   "id": "2bd96add",
   "metadata": {},
   "source": [
    "# AI-Powered News Classifier and Headline Detector - Demo\n",
    "\n",
    "This notebook demonstrates the capabilities of our AI-powered news processing system.\n",
    "\n",
    "## Features\n",
    "- **Text Classification**: Categorize news articles into Sports, Business, Sci/Tech, or World news\n",
    "- **Headline Generation**: Create catchy headlines from article content\n",
    "- **URL Processing**: Extract and process articles directly from web URLs\n",
    "\n",
    "## Models Used\n",
    "- **Classification**: DistilBERT fine-tuned on AG News dataset\n",
    "- **Headline Generation**: Google PEGASUS-XSum model"
   ]
  },
  {
   "cell_type": "code",
   "execution_count": null,
   "id": "59b803dd",
   "metadata": {},
   "outputs": [],
   "source": [
    "# Import required libraries\n",
    "import sys\n",
    "import warnings\n",
    "warnings.filterwarnings('ignore')\n",
    "\n",
    "# Import our news processor\n",
    "from news_processor import NewsProcessor\n",
    "\n",
    "print(\"Loading AI models...\")\n",
    "processor = NewsProcessor()\n",
    "print(\"Models loaded successfully!\")"
   ]
  },
  {
   "cell_type": "markdown",
   "id": "00e953e5",
   "metadata": {},
   "source": [
    "## Example 1: Technology News Classification and Headline Generation"
   ]
  },
  {
   "cell_type": "code",
   "execution_count": null,
   "id": "7c5b386b",
   "metadata": {},
   "outputs": [],
   "source": [
    "# Technology news example\n",
    "tech_article = \"\"\"\n",
    "Apple Inc. announced today that they are releasing a new iPhone model with advanced artificial \n",
    "intelligence capabilities. The device features an improved camera system with computational \n",
    "photography, faster processing speeds with the new A17 chip, and enhanced battery life. \n",
    "The company expects this to be their best-selling product this year, with pre-orders starting \n",
    "next week. CEO Tim Cook highlighted the revolutionary AI features that will change how users \n",
    "interact with their phones. The starting price will be $999 for the base model.\n",
    "\"\"\"\n",
    "\n",
    "result = processor.process_text(tech_article, \"Apple Announces New iPhone\")\n",
    "\n",
    "print(\"=== TECHNOLOGY NEWS EXAMPLE ===\")\n",
    "print(f\"Category: {result['category']}\")\n",
    "print(f\"Confidence: {result['confidence']:.2%}\")\n",
    "print(f\"Original Headline: {result['original_headline']}\")\n",
    "print(f\"Generated Headline: {result['generated_headline']}\")\n",
    "print(f\"Word Count: {result['word_count']}\")"
   ]
  },
  {
   "cell_type": "markdown",
   "id": "212d08c2",
   "metadata": {},
   "source": [
    "## Example 2: Sports News"
   ]
  },
  {
   "cell_type": "code",
   "execution_count": null,
   "id": "93088b2c",
   "metadata": {},
   "outputs": [],
   "source": [
    "# Sports news example\n",
    "sports_article = \"\"\"\n",
    "The Los Angeles Lakers secured a thrilling victory against the Golden State Warriors last night, \n",
    "winning 118-112 in overtime at the Staples Center. LeBron James led the scoring with 35 points, \n",
    "while Anthony Davis contributed 28 points and 15 rebounds. The game went into overtime after \n",
    "Stephen Curry hit a three-pointer with 15 seconds remaining in regulation. This victory puts \n",
    "the Lakers in third place in the Western Conference standings. Coach Darvin Ham praised his \n",
    "team's resilience and determination in the post-game interview.\n",
    "\"\"\"\n",
    "\n",
    "result = processor.process_text(sports_article, \"Lakers Beat Warriors in Overtime\")\n",
    "\n",
    "print(\"=== SPORTS NEWS EXAMPLE ===\")\n",
    "print(f\"Category: {result['category']}\")\n",
    "print(f\"Confidence: {result['confidence']:.2%}\")\n",
    "print(f\"Original Headline: {result['original_headline']}\")\n",
    "print(f\"Generated Headline: {result['generated_headline']}\")\n",
    "print(f\"Word Count: {result['word_count']}\")"
   ]
  },
  {
   "cell_type": "markdown",
   "id": "bd1d9e9c",
   "metadata": {},
   "source": [
    "## Example 3: Business News"
   ]
  },
  {
   "cell_type": "code",
   "execution_count": null,
   "id": "4dfd3098",
   "metadata": {},
   "outputs": [],
   "source": [
    "# Business news example\n",
    "business_article = \"\"\"\n",
    "Global stock markets experienced significant volatility today as investors reacted to new \n",
    "economic data and Federal Reserve announcements. The Dow Jones Industrial Average fell 2.3%, \n",
    "while the S&P 500 dropped 1.8%. Technology stocks were particularly affected, with major \n",
    "companies like Apple, Microsoft, and Google seeing declines of 3-4%. Analysts attribute the \n",
    "sell-off to concerns about rising interest rates and inflation fears. The Federal Reserve \n",
    "indicated they may raise rates sooner than previously expected to combat inflation.\n",
    "\"\"\"\n",
    "\n",
    "result = processor.process_text(business_article, \"Stock Markets Fall on Fed News\")\n",
    "\n",
    "print(\"=== BUSINESS NEWS EXAMPLE ===\")\n",
    "print(f\"Category: {result['category']}\")\n",
    "print(f\"Confidence: {result['confidence']:.2%}\")\n",
    "print(f\"Original Headline: {result['original_headline']}\")\n",
    "print(f\"Generated Headline: {result['generated_headline']}\")\n",
    "print(f\"Word Count: {result['word_count']}\")"
   ]
  },
  {
   "cell_type": "markdown",
   "id": "a61cba41",
   "metadata": {},
   "source": [
    "## Example 4: World News"
   ]
  },
  {
   "cell_type": "code",
   "execution_count": null,
   "id": "8428d170",
   "metadata": {},
   "outputs": [],
   "source": [
    "# World news example\n",
    "world_article = \"\"\"\n",
    "The United Nations Security Council convened an emergency session today to address the ongoing \n",
    "humanitarian crisis in the region. Representatives from multiple countries called for immediate \n",
    "action to provide aid to affected populations. Secretary-General António Guterres emphasized \n",
    "the urgent need for international cooperation and condemned the violence against civilians. \n",
    "Several nations have already pledged financial support and resources for relief efforts. \n",
    "The situation remains fluid with diplomatic efforts continuing around the clock.\n",
    "\"\"\"\n",
    "\n",
    "result = processor.process_text(world_article, \"UN Security Council Addresses Crisis\")\n",
    "\n",
    "print(\"=== WORLD NEWS EXAMPLE ===\")\n",
    "print(f\"Category: {result['category']}\")\n",
    "print(f\"Confidence: {result['confidence']:.2%}\")\n",
    "print(f\"Original Headline: {result['original_headline']}\")\n",
    "print(f\"Generated Headline: {result['generated_headline']}\")\n",
    "print(f\"Word Count: {result['word_count']}\")"
   ]
  },
  {
   "cell_type": "markdown",
   "id": "8dcd4817",
   "metadata": {},
   "source": [
    "## Example 5: Multiple Headline Generation"
   ]
  },
  {
   "cell_type": "code",
   "execution_count": null,
   "id": "5fc38fb8",
   "metadata": {},
   "outputs": [],
   "source": [
    "# Generate multiple headline options for the same article\n",
    "from models.headline_generator import HeadlineGenerator\n",
    "\n",
    "headline_gen = HeadlineGenerator()\n",
    "\n",
    "sample_article = \"\"\"\n",
    "Scientists at MIT have developed a new quantum computing breakthrough that could revolutionize \n",
    "data processing and encryption. The research team, led by Dr. Sarah Johnson, created a quantum \n",
    "processor that maintains coherence for significantly longer periods than previous designs. \n",
    "This advancement brings practical quantum computing applications closer to reality.\n",
    "\"\"\"\n",
    "\n",
    "headlines = headline_gen.generate_multiple(sample_article, num_headlines=5)\n",
    "\n",
    "print(\"=== MULTIPLE HEADLINE OPTIONS ===\")\n",
    "for i, headline in enumerate(headlines, 1):\n",
    "    print(f\"{i}. {headline}\")"
   ]
  },
  {
   "cell_type": "markdown",
   "id": "e5e4dd11",
   "metadata": {},
   "source": [
    "## Example 6: Classification Only"
   ]
  },
  {
   "cell_type": "code",
   "execution_count": null,
   "id": "258e4af6",
   "metadata": {},
   "outputs": [],
   "source": [
    "# Just classify without generating headlines\n",
    "test_texts = [\n",
    "    \"The Federal Reserve announced new interest rate policies affecting the economy.\",\n",
    "    \"Manchester United signed a new striker for the upcoming football season.\",\n",
    "    \"Researchers developed a new AI algorithm for medical diagnosis.\",\n",
    "    \"The European Union announced new environmental regulations.\"\n",
    "]\n",
    "\n",
    "print(\"=== CLASSIFICATION EXAMPLES ===\")\n",
    "for i, text in enumerate(test_texts, 1):\n",
    "    result = processor.classify_text(text)\n",
    "    print(f\"{i}. Text: {text[:60]}...\")\n",
    "    print(f\"   Category: {result['category']} (Confidence: {result['confidence']:.2%})\")\n",
    "    print()"
   ]
  },
  {
   "cell_type": "markdown",
   "id": "a7dfd835",
   "metadata": {},
   "source": [
    "## Example 7: Batch Processing Visualization"
   ]
  },
  {
   "cell_type": "code",
   "execution_count": null,
   "id": "c3541523",
   "metadata": {},
   "outputs": [],
   "source": [
    "# Process multiple articles and visualize results\n",
    "import matplotlib.pyplot as plt\n",
    "import pandas as pd\n",
    "\n",
    "# Sample articles for batch processing\n",
    "articles = [\n",
    "    \"Apple released a new MacBook with M3 chip and improved performance.\",\n",
    "    \"The Lakers won their game against the Celtics 115-109 last night.\",\n",
    "    \"Stock market indices fell due to concerns about inflation rates.\",\n",
    "    \"Scientists discovered a new exoplanet in the habitable zone.\",\n",
    "    \"The FIFA World Cup final attracted millions of viewers worldwide.\",\n",
    "    \"Tesla announced plans to build new manufacturing facilities.\",\n",
    "    \"The United Nations called for peace talks in the region.\",\n",
    "    \"Google unveiled new AI capabilities for their search engine.\"\n",
    "]\n",
    "\n",
    "# Process all articles\n",
    "results = []\n",
    "for article in articles:\n",
    "    result = processor.classify_text(article)\n",
    "    results.append(result)\n",
    "\n",
    "# Create DataFrame for analysis\n",
    "df = pd.DataFrame(results)\n",
    "\n",
    "# Plot category distribution\n",
    "plt.figure(figsize=(12, 5))\n",
    "\n",
    "plt.subplot(1, 2, 1)\n",
    "category_counts = df['category'].value_counts()\n",
    "plt.pie(category_counts.values, labels=category_counts.index, autopct='%1.1f%%')\n",
    "plt.title('Distribution of Article Categories')\n",
    "\n",
    "plt.subplot(1, 2, 2)\n",
    "plt.hist(df['confidence'], bins=10, alpha=0.7, color='skyblue', edgecolor='black')\n",
    "plt.xlabel('Confidence Score')\n",
    "plt.ylabel('Frequency')\n",
    "plt.title('Distribution of Classification Confidence')\n",
    "\n",
    "plt.tight_layout()\n",
    "plt.show()\n",
    "\n",
    "print(\"\\n=== BATCH PROCESSING SUMMARY ===\")\n",
    "print(f\"Total articles processed: {len(articles)}\")\n",
    "print(f\"Average confidence: {df['confidence'].mean():.2%}\")\n",
    "print(f\"Most common category: {df['category'].mode()[0]}\")"
   ]
  },
  {
   "cell_type": "markdown",
   "id": "865c3122",
   "metadata": {},
   "source": [
    "## Example 8: URL Processing (Optional - requires internet)"
   ]
  },
  {
   "cell_type": "code",
   "execution_count": null,
   "id": "341e7d36",
   "metadata": {},
   "outputs": [],
   "source": [
    "# Example of processing a real URL (uncomment to test with actual URLs)\n",
    "\n",
    "# IMPORTANT: This requires internet connection and a valid news article URL\n",
    "# Replace with an actual news article URL to test\n",
    "\n",
    "# sample_url = \"https://www.example-news-site.com/article\"\n",
    "# try:\n",
    "#     result = processor.process_url(sample_url)\n",
    "#     print(\"=== URL PROCESSING EXAMPLE ===\")\n",
    "#     print(f\"URL: {sample_url}\")\n",
    "#     print(f\"Title: {result['original_headline']}\")\n",
    "#     print(f\"Category: {result['category']}\")\n",
    "#     print(f\"Generated Headline: {result['generated_headline']}\")\n",
    "#     print(f\"Content Preview: {result['content_preview'][:200]}...\")\n",
    "# except Exception as e:\n",
    "#     print(f\"Error processing URL: {e}\")\n",
    "\n",
    "print(\"URL processing example is commented out.\")\n",
    "print(\"To test with real URLs, uncomment the code above and provide a valid news article URL.\")"
   ]
  },
  {
   "cell_type": "markdown",
   "id": "b926b313",
   "metadata": {},
   "source": [
    "## Summary\n",
    "\n",
    "This notebook demonstrated the key capabilities of our AI-Powered News Classifier and Headline Detector:\n",
    "\n",
    "1. **Accurate Classification**: The system can categorize news articles into different domains with high confidence\n",
    "2. **Creative Headlines**: Generated headlines are concise and engaging\n",
    "3. **Versatile Input**: Supports both text input and URL processing\n",
    "4. **Batch Processing**: Can handle multiple articles efficiently\n",
    "5. **Detailed Analysis**: Provides confidence scores and metadata\n",
    "\n",
    "### Next Steps\n",
    "- Try the web interface: `streamlit run app.py`\n",
    "- Use the command line: `python cli.py --help`\n",
    "- Experiment with your own news articles!"
   ]
  }
 ],
 "metadata": {
  "language_info": {
   "name": "python"
  }
 },
 "nbformat": 4,
 "nbformat_minor": 5
}
